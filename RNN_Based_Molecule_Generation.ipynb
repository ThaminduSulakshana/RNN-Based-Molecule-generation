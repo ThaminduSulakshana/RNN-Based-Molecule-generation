{
  "metadata": {
    "kernelspec": {
      "language": "python",
      "display_name": "Python 3",
      "name": "python3"
    },
    "language_info": {
      "name": "python",
      "version": "3.10.12",
      "mimetype": "text/x-python",
      "codemirror_mode": {
        "name": "ipython",
        "version": 3
      },
      "pygments_lexer": "ipython3",
      "nbconvert_exporter": "python",
      "file_extension": ".py"
    },
    "colab": {
      "provenance": [],
      "include_colab_link": true
    }
  },
  "nbformat_minor": 0,
  "nbformat": 4,
  "cells": [
    {
      "cell_type": "markdown",
      "metadata": {
        "id": "view-in-github",
        "colab_type": "text"
      },
      "source": [
        "<a href=\"https://colab.research.google.com/github/ThaminduSulakshana/RNN-Based-Molecule-generation/blob/main/RNN_Based_Molecule_Generation.ipynb\" target=\"_parent\"><img src=\"https://colab.research.google.com/assets/colab-badge.svg\" alt=\"Open In Colab\"/></a>"
      ]
    },
    {
      "cell_type": "markdown",
      "source": [
        "Generate molecular formulas for de novo-drug discovery."
      ],
      "metadata": {
        "id": "fYblswnDdQf7"
      }
    },
    {
      "cell_type": "markdown",
      "source": [
        "## Import and dependancies"
      ],
      "metadata": {
        "id": "a4AUGmvCcrEZ"
      }
    },
    {
      "cell_type": "code",
      "source": [
        "!pip install rdkit-pypi"
      ],
      "metadata": {
        "execution": {
          "iopub.status.busy": "2023-09-25T18:59:20.855601Z",
          "iopub.execute_input": "2023-09-25T18:59:20.856093Z",
          "iopub.status.idle": "2023-09-25T18:59:36.013318Z",
          "shell.execute_reply.started": "2023-09-25T18:59:20.856058Z",
          "shell.execute_reply": "2023-09-25T18:59:36.011925Z"
        },
        "trusted": true,
        "id": "FMOsY3y7crEZ",
        "outputId": "6ba16632-7289-4b94-af92-7cec27f99480"
      },
      "execution_count": null,
      "outputs": [
        {
          "name": "stdout",
          "text": "Requirement already satisfied: rdkit-pypi in /opt/conda/lib/python3.10/site-packages (2022.9.5)\nRequirement already satisfied: numpy in /opt/conda/lib/python3.10/site-packages (from rdkit-pypi) (1.23.5)\nRequirement already satisfied: Pillow in /opt/conda/lib/python3.10/site-packages (from rdkit-pypi) (9.5.0)\n",
          "output_type": "stream"
        }
      ]
    },
    {
      "cell_type": "code",
      "source": [
        "import yaml\n",
        "import pandas as pd\n",
        "import numpy as np\n",
        "import random\n",
        "from rdkit.Chem import QED,MolFromSmiles\n",
        "import os\n",
        "import tensorflow as tf\n",
        "from tensorflow.keras.models import Sequential, load_model\n",
        "from tensorflow.keras.layers import LSTM, Dense, Dropout, Bidirectional,Input\n",
        "from rdkit.Chem import MolToSmiles\n",
        "from tqdm import tqdm\n",
        "import matplotlib.pyplot as plt\n",
        "from rdkit.Chem.Draw import MolToImage"
      ],
      "metadata": {
        "execution": {
          "iopub.status.busy": "2023-09-25T18:59:36.017105Z",
          "iopub.execute_input": "2023-09-25T18:59:36.018248Z",
          "iopub.status.idle": "2023-09-25T18:59:36.026510Z",
          "shell.execute_reply.started": "2023-09-25T18:59:36.018199Z",
          "shell.execute_reply": "2023-09-25T18:59:36.025349Z"
        },
        "trusted": true,
        "id": "olP56xUCcrEb"
      },
      "execution_count": null,
      "outputs": []
    },
    {
      "cell_type": "markdown",
      "source": [
        "## Saving config"
      ],
      "metadata": {
        "id": "x8Frwv7lcrEb"
      }
    },
    {
      "cell_type": "code",
      "source": [
        "def save_config(dictionnaire, chemin_fichier=\"config.yml\"):\n",
        "    with open(chemin_fichier, \"w\") as fichier:\n",
        "        yaml.dump(dictionnaire, fichier)\n",
        "    print(\"Fichier YAML sauvegardé avec succès.\")\n",
        "\n",
        "\n",
        "def read_yaml(chemin_fichier):\n",
        "    if os.path.exists(chemin_fichier):\n",
        "        with open(chemin_fichier, \"r\") as fichier:\n",
        "            contenu = yaml.safe_load(fichier)\n",
        "    else:\n",
        "        contenu = {}\n",
        "    return contenu"
      ],
      "metadata": {
        "execution": {
          "iopub.status.busy": "2023-09-25T18:59:36.028080Z",
          "iopub.execute_input": "2023-09-25T18:59:36.028810Z",
          "iopub.status.idle": "2023-09-25T18:59:36.038794Z",
          "shell.execute_reply.started": "2023-09-25T18:59:36.028768Z",
          "shell.execute_reply": "2023-09-25T18:59:36.037839Z"
        },
        "trusted": true,
        "id": "dfAbdtEMcrEb"
      },
      "execution_count": null,
      "outputs": []
    },
    {
      "cell_type": "code",
      "source": [
        "config = {}"
      ],
      "metadata": {
        "execution": {
          "iopub.status.busy": "2023-09-25T18:59:36.042285Z",
          "iopub.execute_input": "2023-09-25T18:59:36.042939Z",
          "iopub.status.idle": "2023-09-25T18:59:36.049930Z",
          "shell.execute_reply.started": "2023-09-25T18:59:36.042904Z",
          "shell.execute_reply": "2023-09-25T18:59:36.048986Z"
        },
        "trusted": true,
        "id": "5mX9S-0zcrEc"
      },
      "execution_count": null,
      "outputs": []
    },
    {
      "cell_type": "markdown",
      "source": [
        "## Loading the data"
      ],
      "metadata": {
        "id": "WU_SbWlJyyhn"
      }
    },
    {
      "cell_type": "code",
      "source": [
        "! [ -e 250k_smiles.csv ] || wget https://raw.githubusercontent.com/joeymach/Leveraging-VAE-to-generate-molecules/master/250k_smiles.csv"
      ],
      "metadata": {
        "id": "0n4Vt5n4o8jc",
        "execution": {
          "iopub.status.busy": "2023-09-25T18:59:36.051177Z",
          "iopub.execute_input": "2023-09-25T18:59:36.052219Z",
          "iopub.status.idle": "2023-09-25T18:59:37.294766Z",
          "shell.execute_reply.started": "2023-09-25T18:59:36.052183Z",
          "shell.execute_reply": "2023-09-25T18:59:37.293238Z"
        },
        "trusted": true
      },
      "execution_count": null,
      "outputs": []
    },
    {
      "cell_type": "code",
      "source": [
        "df = pd.read_csv(filepath_or_buffer=\"250k_smiles.csv\", nrows=1000)"
      ],
      "metadata": {
        "id": "jdBAbT-Apc4g",
        "execution": {
          "iopub.status.busy": "2023-09-25T18:59:37.297240Z",
          "iopub.execute_input": "2023-09-25T18:59:37.297687Z",
          "iopub.status.idle": "2023-09-25T18:59:37.314771Z",
          "shell.execute_reply.started": "2023-09-25T18:59:37.297646Z",
          "shell.execute_reply": "2023-09-25T18:59:37.313286Z"
        },
        "trusted": true
      },
      "execution_count": null,
      "outputs": []
    },
    {
      "cell_type": "markdown",
      "source": [
        "Compute the biggest smile molecule size"
      ],
      "metadata": {
        "id": "C-wwZXCOyyhu"
      }
    },
    {
      "cell_type": "code",
      "source": [
        "len(max(df[\"smiles\"], key=lambda s: len(s)))"
      ],
      "metadata": {
        "id": "sjihMHOYuYz0",
        "outputId": "778e12b6-4606-4140-8c1d-dc1f51a01e44",
        "execution": {
          "iopub.status.busy": "2023-09-25T18:59:37.333237Z",
          "iopub.execute_input": "2023-09-25T18:59:37.334011Z",
          "iopub.status.idle": "2023-09-25T18:59:37.345102Z",
          "shell.execute_reply.started": "2023-09-25T18:59:37.333968Z",
          "shell.execute_reply": "2023-09-25T18:59:37.343727Z"
        },
        "trusted": true
      },
      "execution_count": null,
      "outputs": [
        {
          "execution_count": 203,
          "output_type": "execute_result",
          "data": {
            "text/plain": "106"
          },
          "metadata": {}
        }
      ]
    },
    {
      "cell_type": "code",
      "source": [
        "def unic_characters(string :str):\n",
        "    return np.unique(list(string))"
      ],
      "metadata": {
        "id": "PuGJsUIVA3il",
        "execution": {
          "iopub.status.busy": "2023-09-25T18:59:37.346793Z",
          "iopub.execute_input": "2023-09-25T18:59:37.347630Z",
          "iopub.status.idle": "2023-09-25T18:59:37.353949Z",
          "shell.execute_reply.started": "2023-09-25T18:59:37.347590Z",
          "shell.execute_reply": "2023-09-25T18:59:37.352745Z"
        },
        "trusted": true
      },
      "execution_count": null,
      "outputs": []
    },
    {
      "cell_type": "markdown",
      "source": [
        "Testons cette fonction:"
      ],
      "metadata": {
        "id": "3ZPQO032crEd"
      }
    },
    {
      "cell_type": "code",
      "source": [
        "unic_characters(\"AAAABAAACCCDDDEE\")"
      ],
      "metadata": {
        "id": "kfQN1kx-8qz5",
        "outputId": "0bbc3566-c781-4c8c-ea1e-3b327df16043",
        "execution": {
          "iopub.status.busy": "2023-09-25T18:59:37.359909Z",
          "iopub.execute_input": "2023-09-25T18:59:37.361131Z",
          "iopub.status.idle": "2023-09-25T18:59:37.369275Z",
          "shell.execute_reply.started": "2023-09-25T18:59:37.361092Z",
          "shell.execute_reply": "2023-09-25T18:59:37.367788Z"
        },
        "trusted": true
      },
      "execution_count": null,
      "outputs": [
        {
          "execution_count": 205,
          "output_type": "execute_result",
          "data": {
            "text/plain": "array(['A', 'B', 'C', 'D', 'E'], dtype='<U1')"
          },
          "metadata": {}
        }
      ]
    },
    {
      "cell_type": "markdown",
      "source": [
        "Concatenate all smile string of the pandas dataframe and use **unic_characters** to get the unic_characters"
      ],
      "metadata": {
        "id": "4DITuFSeyyhx"
      }
    },
    {
      "cell_type": "code",
      "source": [
        "unic_chars = unic_characters(df[\"smiles\"].sum())"
      ],
      "metadata": {
        "id": "Pweel8bxyyhx",
        "execution": {
          "iopub.status.busy": "2023-09-25T18:59:37.371320Z",
          "iopub.execute_input": "2023-09-25T18:59:37.372489Z",
          "iopub.status.idle": "2023-09-25T18:59:37.401782Z",
          "shell.execute_reply.started": "2023-09-25T18:59:37.372451Z",
          "shell.execute_reply": "2023-09-25T18:59:37.400828Z"
        },
        "trusted": true
      },
      "execution_count": null,
      "outputs": []
    },
    {
      "cell_type": "code",
      "source": [
        "def map_char_to_int(unic_chars):\n",
        "    dictionnary = {}\n",
        "    for i, char in enumerate(unic_chars):\n",
        "        dictionnary[char] = i\n",
        "    return dictionnary"
      ],
      "metadata": {
        "id": "dPvQzt1Oyyhy",
        "execution": {
          "iopub.status.busy": "2023-09-25T18:59:37.403356Z",
          "iopub.execute_input": "2023-09-25T18:59:37.403689Z",
          "iopub.status.idle": "2023-09-25T18:59:37.412207Z",
          "shell.execute_reply.started": "2023-09-25T18:59:37.403658Z",
          "shell.execute_reply": "2023-09-25T18:59:37.411149Z"
        },
        "trusted": true
      },
      "execution_count": null,
      "outputs": []
    },
    {
      "cell_type": "code",
      "source": [
        "map_char_to_int(unic_chars)"
      ],
      "metadata": {
        "id": "lJAKz2_KCN12",
        "outputId": "4fee2695-3923-4df0-9b57-6d1a60524ced",
        "execution": {
          "iopub.status.busy": "2023-09-25T18:59:37.415759Z",
          "iopub.execute_input": "2023-09-25T18:59:37.416087Z",
          "iopub.status.idle": "2023-09-25T18:59:37.433596Z",
          "shell.execute_reply.started": "2023-09-25T18:59:37.416061Z",
          "shell.execute_reply": "2023-09-25T18:59:37.432445Z"
        },
        "trusted": true
      },
      "execution_count": null,
      "outputs": [
        {
          "execution_count": 208,
          "output_type": "execute_result",
          "data": {
            "text/plain": "{'\\n': 0,\n '#': 1,\n '(': 2,\n ')': 3,\n '+': 4,\n '-': 5,\n '/': 6,\n '1': 7,\n '2': 8,\n '3': 9,\n '4': 10,\n '5': 11,\n '6': 12,\n '7': 13,\n '=': 14,\n '@': 15,\n 'B': 16,\n 'C': 17,\n 'F': 18,\n 'H': 19,\n 'I': 20,\n 'N': 21,\n 'O': 22,\n 'S': 23,\n '[': 24,\n '\\\\': 25,\n ']': 26,\n 'c': 27,\n 'l': 28,\n 'n': 29,\n 'o': 30,\n 'r': 31,\n 's': 32}"
          },
          "metadata": {}
        }
      ]
    },
    {
      "cell_type": "code",
      "source": [
        "def map_int_to_char(unic_chars):\n",
        "    dictionnary = {}\n",
        "    for i, char in enumerate(unic_chars):\n",
        "        dictionnary[i] = char\n",
        "    return dictionnary"
      ],
      "metadata": {
        "id": "mX3883sYyyh0",
        "execution": {
          "iopub.status.busy": "2023-09-25T18:59:37.436746Z",
          "iopub.execute_input": "2023-09-25T18:59:37.437013Z",
          "iopub.status.idle": "2023-09-25T18:59:37.445258Z",
          "shell.execute_reply.started": "2023-09-25T18:59:37.436991Z",
          "shell.execute_reply": "2023-09-25T18:59:37.444266Z"
        },
        "trusted": true
      },
      "execution_count": null,
      "outputs": []
    },
    {
      "cell_type": "code",
      "source": [
        "class MolEncoder:\n",
        "    def __init__(self, unic_characters: np.array = None, string_set =None):\n",
        "        if unic_characters is not None:\n",
        "            self.unic_chars = unic_characters\n",
        "            self.char_to_int = map_char_to_int(unic_chars)\n",
        "            self.int_to_char = map_int_to_char(unic_chars)\n",
        "            self.voc_len = len(unic_chars)\n",
        "            return\n",
        "        int_val = 0\n",
        "        self.char_to_int = {}\n",
        "        self.int_to_char = {}\n",
        "        for chaine in tqdm(string_set):\n",
        "            for char in chaine:\n",
        "                if char not in self.char_to_int.keys():\n",
        "                    self.char_to_int[char] = int_val\n",
        "                    self.int_to_char[int_val] = char\n",
        "                    int_val += 1\n",
        "        self.unic_chars = [key for key in self.char_to_int.keys()]\n",
        "        self.voc_len = len(self.unic_chars)\n",
        "\n",
        "    def get_char(self, int_val):\n",
        "        return self.int_to_char[int_val]\n",
        "\n",
        "    def get_int(self, char):\n",
        "        return self.char_to_int[char]\n",
        "\n",
        "    def encode_mol(self, smiles):\n",
        "        return np.array([self.char_to_int[char] for char in smiles])\n",
        "\n",
        "    def get_one_hot(self, int_value: int = None, char: chr = None):\n",
        "        if int_value is None:\n",
        "            int_value = self.get_int(char)\n",
        "        elif char is None:\n",
        "            char = self.get_char(int_value)\n",
        "        one_hot = np.zeros(self.voc_len)\n",
        "        one_hot[int_value] = 1\n",
        "        return one_hot\n",
        "\n",
        "    def decode_mol(self, encoded_mol):\n",
        "        return \"\".join([self.int_to_char[int] for int in encoded_mol])"
      ],
      "metadata": {
        "execution": {
          "iopub.status.busy": "2023-09-25T18:59:37.446739Z",
          "iopub.execute_input": "2023-09-25T18:59:37.447179Z",
          "iopub.status.idle": "2023-09-25T18:59:37.462376Z",
          "shell.execute_reply.started": "2023-09-25T18:59:37.447146Z",
          "shell.execute_reply": "2023-09-25T18:59:37.461273Z"
        },
        "trusted": true,
        "id": "R2NlEfOTcrEe"
      },
      "execution_count": null,
      "outputs": []
    },
    {
      "cell_type": "code",
      "source": [
        "unic_chars = unic_characters(df[\"smiles\"].sum())\n",
        "mol_encoder = MolEncoder(unic_chars)\n",
        "print(mol_encoder.get_char(17))\n",
        "print(mol_encoder.get_int(\"C\"))\n",
        "print(mol_encoder.get_one_hot(17))\n",
        "assert np.all(mol_encoder.get_one_hot(17) == mol_encoder.get_one_hot(char=\"C\"))"
      ],
      "metadata": {
        "id": "6PyYopQ3F_H9",
        "outputId": "f9ba15f7-4c3b-4c9c-b781-ffd1bec8a670",
        "execution": {
          "iopub.status.busy": "2023-09-25T18:59:37.464236Z",
          "iopub.execute_input": "2023-09-25T18:59:37.464570Z",
          "iopub.status.idle": "2023-09-25T18:59:37.497437Z",
          "shell.execute_reply.started": "2023-09-25T18:59:37.464540Z",
          "shell.execute_reply": "2023-09-25T18:59:37.496307Z"
        },
        "trusted": true
      },
      "execution_count": null,
      "outputs": [
        {
          "name": "stdout",
          "text": "C\n17\n[0. 0. 0. 0. 0. 0. 0. 0. 0. 0. 0. 0. 0. 0. 0. 0. 0. 1. 0. 0. 0. 0. 0. 0.\n 0. 0. 0. 0. 0. 0. 0. 0. 0.]\n",
          "output_type": "stream"
        }
      ]
    },
    {
      "cell_type": "code",
      "source": [
        "mol_smile = df[\"smiles\"][random.randint(0, len(df))]\n",
        "ecnoded = mol_encoder.encode_mol(mol_smile)\n",
        "assert mol_encoder.decode_mol(ecnoded) == mol_smile"
      ],
      "metadata": {
        "execution": {
          "iopub.status.busy": "2023-09-25T18:59:37.499032Z",
          "iopub.execute_input": "2023-09-25T18:59:37.499502Z",
          "iopub.status.idle": "2023-09-25T18:59:37.508529Z",
          "shell.execute_reply.started": "2023-09-25T18:59:37.499461Z",
          "shell.execute_reply": "2023-09-25T18:59:37.507412Z"
        },
        "trusted": true,
        "id": "jUbWBKD5crEe"
      },
      "execution_count": null,
      "outputs": []
    },
    {
      "cell_type": "markdown",
      "source": [
        "Code a function **build_X_and_y(string, i_char, seq_lenght)** which takes a string, a **seq_length** number and a position.\n",
        "\n",
        "\n",
        "It should create X by by getting all character between i and i + seq_length\n",
        "and create y by getting the character following the X sequence\n",
        "it returns X and y"
      ],
      "metadata": {
        "id": "Jwkwafxdyyh4"
      }
    },
    {
      "cell_type": "code",
      "source": [
        "def build_X_and_y(\n",
        "    string: str,\n",
        "    i_char: int,\n",
        "    seq_length: int,\n",
        "    mol_encoder: MolEncoder = None,\n",
        "    one_hot: bool = False,\n",
        "):\n",
        "    encode_method = (\n",
        "        mol_encoder.get_int\n",
        "        if not one_hot\n",
        "        else lambda x: mol_encoder.get_one_hot(char=x)\n",
        "    )\n",
        "    X = [encode_method(char) for char in string[i_char : i_char + seq_length]]\n",
        "    y = encode_method(string[i_char + seq_length])\n",
        "    return X, y"
      ],
      "metadata": {
        "id": "ToDrNcT8yyh5",
        "execution": {
          "iopub.status.busy": "2023-09-25T18:59:37.510368Z",
          "iopub.execute_input": "2023-09-25T18:59:37.510756Z",
          "iopub.status.idle": "2023-09-25T18:59:37.521017Z",
          "shell.execute_reply.started": "2023-09-25T18:59:37.510721Z",
          "shell.execute_reply": "2023-09-25T18:59:37.520020Z"
        },
        "trusted": true
      },
      "execution_count": null,
      "outputs": []
    },
    {
      "cell_type": "markdown",
      "source": [
        "Test function on the following string \"OCC(C)(C)c1ccc\" with seq_length = 4 and i = [1, 2, 3]"
      ],
      "metadata": {
        "id": "PfRJ_Lpkyyh4"
      }
    },
    {
      "cell_type": "code",
      "source": [
        "tested_string = \"CC(C)(C)c1ccc\"\n",
        "seq_len = 3\n",
        "for i_char in range(1, 4):\n",
        "    X, y = build_X_and_y(\n",
        "        tested_string, i_char=i_char, seq_length=seq_len, mol_encoder=mol_encoder\n",
        "    )\n",
        "    print(\n",
        "        f\"l'encodage de {tested_string[i_char:i_char+seq_len]} est {X} et le caractère suivant est {y}\"\n",
        "    )"
      ],
      "metadata": {
        "execution": {
          "iopub.status.busy": "2023-09-25T18:59:37.522587Z",
          "iopub.execute_input": "2023-09-25T18:59:37.523367Z",
          "iopub.status.idle": "2023-09-25T18:59:37.536221Z",
          "shell.execute_reply.started": "2023-09-25T18:59:37.523331Z",
          "shell.execute_reply": "2023-09-25T18:59:37.534811Z"
        },
        "trusted": true,
        "id": "JDEx5aU6crEi",
        "outputId": "bb855c31-63b3-4973-868f-8e6e643d5a22"
      },
      "execution_count": null,
      "outputs": [
        {
          "name": "stdout",
          "text": "l'encodage de C(C est [17, 2, 17] et le caractère suivant est 3\nl'encodage de (C) est [2, 17, 3] et le caractère suivant est 2\nl'encodage de C)( est [17, 3, 2] et le caractère suivant est 17\n",
          "output_type": "stream"
        }
      ]
    },
    {
      "cell_type": "markdown",
      "source": [
        "By using build_X_and_y and map_char_to_int build a list nameed X_train and a list named y_train"
      ],
      "metadata": {
        "id": "y9DdyLSUyyh5"
      }
    },
    {
      "cell_type": "code",
      "source": [
        "def generate_ds(seq_len = 10, mol_encoder = None):\n",
        "    X_train, y_train = [], []\n",
        "    for mol in df[\"smiles\"]:\n",
        "        for i in range(len(mol) - seq_len):\n",
        "            X, y = build_X_and_y(mol, i_char=i, seq_length=seq_len, mol_encoder=mol_encoder)\n",
        "            X_train.append(X)\n",
        "            y_train.append(y)\n",
        "    return np.array(X_train),np.array(y_train)"
      ],
      "metadata": {
        "id": "xRb61XzXyyh6",
        "execution": {
          "iopub.status.busy": "2023-09-25T18:59:37.538035Z",
          "iopub.execute_input": "2023-09-25T18:59:37.538622Z",
          "iopub.status.idle": "2023-09-25T18:59:37.548263Z",
          "shell.execute_reply.started": "2023-09-25T18:59:37.538584Z",
          "shell.execute_reply": "2023-09-25T18:59:37.546784Z"
        },
        "trusted": true
      },
      "execution_count": null,
      "outputs": []
    },
    {
      "cell_type": "markdown",
      "source": [
        "Create numpy arrays from the lists"
      ],
      "metadata": {
        "id": "fubbPe7Vyyh6"
      }
    },
    {
      "cell_type": "code",
      "source": [
        "X_train ,y_train = generate_ds(10,mol_encoder)"
      ],
      "metadata": {
        "id": "il1hbrsbyyh7",
        "execution": {
          "iopub.status.busy": "2023-09-25T18:59:37.549956Z",
          "iopub.execute_input": "2023-09-25T18:59:37.550360Z",
          "iopub.status.idle": "2023-09-25T18:59:37.823369Z",
          "shell.execute_reply.started": "2023-09-25T18:59:37.550325Z",
          "shell.execute_reply": "2023-09-25T18:59:37.822275Z"
        },
        "trusted": true
      },
      "execution_count": null,
      "outputs": []
    },
    {
      "cell_type": "code",
      "source": [
        "X_train.shape, y_train.shape"
      ],
      "metadata": {
        "execution": {
          "iopub.status.busy": "2023-09-25T18:59:37.824917Z",
          "iopub.execute_input": "2023-09-25T18:59:37.825289Z",
          "iopub.status.idle": "2023-09-25T18:59:37.832413Z",
          "shell.execute_reply.started": "2023-09-25T18:59:37.825256Z",
          "shell.execute_reply": "2023-09-25T18:59:37.830927Z"
        },
        "trusted": true,
        "id": "nkoeGimhcrEj",
        "outputId": "2c9e62db-63df-419f-c779-6a5d81000c1c"
      },
      "execution_count": null,
      "outputs": [
        {
          "execution_count": 217,
          "output_type": "execute_result",
          "data": {
            "text/plain": "((35242, 10), (35242,))"
          },
          "metadata": {}
        }
      ]
    },
    {
      "cell_type": "code",
      "source": [
        "X_train = X_train.reshape(X_train.shape[0], X_train.shape[1], 1)"
      ],
      "metadata": {
        "id": "T6mf5a4Dyyh8",
        "execution": {
          "iopub.status.busy": "2023-09-25T18:59:37.834272Z",
          "iopub.execute_input": "2023-09-25T18:59:37.834908Z",
          "iopub.status.idle": "2023-09-25T18:59:37.844656Z",
          "shell.execute_reply.started": "2023-09-25T18:59:37.834852Z",
          "shell.execute_reply": "2023-09-25T18:59:37.843602Z"
        },
        "trusted": true
      },
      "execution_count": null,
      "outputs": []
    },
    {
      "cell_type": "code",
      "source": [
        "X_train.shape, y_train.shape"
      ],
      "metadata": {
        "execution": {
          "iopub.status.busy": "2023-09-25T18:59:37.846607Z",
          "iopub.execute_input": "2023-09-25T18:59:37.847057Z",
          "iopub.status.idle": "2023-09-25T18:59:37.860139Z",
          "shell.execute_reply.started": "2023-09-25T18:59:37.847024Z",
          "shell.execute_reply": "2023-09-25T18:59:37.859226Z"
        },
        "trusted": true,
        "id": "ROSSvEoMcrEj",
        "outputId": "64eeabd1-f41f-484d-8c81-4b3950d69fd5"
      },
      "execution_count": null,
      "outputs": [
        {
          "execution_count": 219,
          "output_type": "execute_result",
          "data": {
            "text/plain": "((35242, 10, 1), (35242,))"
          },
          "metadata": {}
        }
      ]
    },
    {
      "cell_type": "code",
      "source": [
        "X_train = X_train / mol_encoder.voc_len"
      ],
      "metadata": {
        "id": "lHTjPnv4yyh9",
        "execution": {
          "iopub.status.busy": "2023-09-25T18:59:37.862748Z",
          "iopub.execute_input": "2023-09-25T18:59:37.863013Z",
          "iopub.status.idle": "2023-09-25T18:59:37.872533Z",
          "shell.execute_reply.started": "2023-09-25T18:59:37.862990Z",
          "shell.execute_reply": "2023-09-25T18:59:37.871543Z"
        },
        "trusted": true
      },
      "execution_count": null,
      "outputs": []
    },
    {
      "cell_type": "code",
      "source": [
        "assert np.all(X_train < 1)"
      ],
      "metadata": {
        "execution": {
          "iopub.status.busy": "2023-09-25T18:59:37.873732Z",
          "iopub.execute_input": "2023-09-25T18:59:37.874061Z",
          "iopub.status.idle": "2023-09-25T18:59:37.882774Z",
          "shell.execute_reply.started": "2023-09-25T18:59:37.874027Z",
          "shell.execute_reply": "2023-09-25T18:59:37.881822Z"
        },
        "trusted": true,
        "id": "KzaWdWY8crEk"
      },
      "execution_count": null,
      "outputs": []
    },
    {
      "cell_type": "code",
      "source": [
        "model = Sequential()\n",
        "model.add(LSTM(128, input_shape=(X_train.shape[1:]), return_sequences=True))\n",
        "model.add(Dropout(0.2))\n",
        "model.add(LSTM(128))\n",
        "model.add(Dropout(0.2))\n",
        "model.add(Dense(units=1, activation=\"softmax\"))"
      ],
      "metadata": {
        "id": "9a0Vz4L8yyiM",
        "execution": {
          "iopub.status.busy": "2023-09-25T18:59:37.883798Z",
          "iopub.execute_input": "2023-09-25T18:59:37.884074Z",
          "iopub.status.idle": "2023-09-25T18:59:38.583250Z",
          "shell.execute_reply.started": "2023-09-25T18:59:37.884044Z",
          "shell.execute_reply": "2023-09-25T18:59:38.582173Z"
        },
        "trusted": true
      },
      "execution_count": null,
      "outputs": []
    },
    {
      "cell_type": "markdown",
      "source": [
        "Compile the model with the appropriate loss function and the adam optimizer"
      ],
      "metadata": {
        "id": "q1cAV53EyyiN"
      }
    },
    {
      "cell_type": "code",
      "source": [
        "model.compile(\n",
        "    optimizer=tf.keras.optimizers.Adam(learning_rate=1e-3),\n",
        "    loss=\"sparse_categorical_crossentropy\",\n",
        "    metrics=[\"accuracy\"],\n",
        ")\n",
        "model.summary()"
      ],
      "metadata": {
        "id": "6q2XpZQ4yyiO",
        "execution": {
          "iopub.status.busy": "2023-09-25T18:59:38.590531Z",
          "iopub.execute_input": "2023-09-25T18:59:38.590841Z",
          "iopub.status.idle": "2023-09-25T18:59:38.629258Z",
          "shell.execute_reply.started": "2023-09-25T18:59:38.590814Z",
          "shell.execute_reply": "2023-09-25T18:59:38.628390Z"
        },
        "trusted": true,
        "outputId": "ce3cdd5d-e150-4579-8403-08708a1d3dce"
      },
      "execution_count": null,
      "outputs": [
        {
          "name": "stdout",
          "text": "Model: \"sequential_12\"\n_________________________________________________________________\n Layer (type)                Output Shape              Param #   \n=================================================================\n lstm_24 (LSTM)              (None, 10, 128)           66560     \n                                                                 \n dropout_24 (Dropout)        (None, 10, 128)           0         \n                                                                 \n lstm_25 (LSTM)              (None, 128)               131584    \n                                                                 \n dropout_25 (Dropout)        (None, 128)               0         \n                                                                 \n dense_12 (Dense)            (None, 1)                 129       \n                                                                 \n=================================================================\nTotal params: 198,273\nTrainable params: 198,273\nNon-trainable params: 0\n_________________________________________________________________\n",
          "output_type": "stream"
        }
      ]
    },
    {
      "cell_type": "markdown",
      "source": [
        "Train the model on 20 epochs and 10 examples (yeah you read correctly) and check that the model overfits !"
      ],
      "metadata": {
        "id": "ZIq8gdLyyyiP"
      }
    },
    {
      "cell_type": "code",
      "source": [
        "# Convert X_train to tensor\n",
        "n_samples = 10\n",
        "X_train_tensor = tf.convert_to_tensor(X_train[:n_samples])\n",
        "y_train_tensor = tf.convert_to_tensor(y_train[:n_samples])"
      ],
      "metadata": {
        "execution": {
          "iopub.status.busy": "2023-09-25T18:59:38.630337Z",
          "iopub.execute_input": "2023-09-25T18:59:38.630701Z",
          "iopub.status.idle": "2023-09-25T18:59:38.640340Z",
          "shell.execute_reply.started": "2023-09-25T18:59:38.630667Z",
          "shell.execute_reply": "2023-09-25T18:59:38.639325Z"
        },
        "trusted": true,
        "id": "DOLqVs_jcrEk"
      },
      "execution_count": null,
      "outputs": []
    },
    {
      "cell_type": "code",
      "source": [
        "n_epochs = 20\n",
        "config['epochs'] = n_epochs\n",
        "history = model.fit(X_train_tensor, y_train_tensor, epochs=n_epochs)"
      ],
      "metadata": {
        "execution": {
          "iopub.status.busy": "2023-09-25T18:59:38.641724Z",
          "iopub.execute_input": "2023-09-25T18:59:38.642346Z",
          "iopub.status.idle": "2023-09-25T18:59:43.669950Z",
          "shell.execute_reply.started": "2023-09-25T18:59:38.642308Z",
          "shell.execute_reply": "2023-09-25T18:59:43.668844Z"
        },
        "trusted": true,
        "id": "gWcyTYyVcrEk",
        "outputId": "2348008a-245c-4275-9a84-179cc1eba47e"
      },
      "execution_count": null,
      "outputs": [
        {
          "name": "stdout",
          "text": "Epoch 1/20\n1/1 [==============================] - 5s 5s/step - loss: nan - accuracy: 0.0000e+00\nEpoch 2/20\n1/1 [==============================] - 0s 13ms/step - loss: nan - accuracy: 0.0000e+00\nEpoch 3/20\n1/1 [==============================] - 0s 13ms/step - loss: nan - accuracy: 0.0000e+00\nEpoch 4/20\n1/1 [==============================] - 0s 13ms/step - loss: nan - accuracy: 0.0000e+00\nEpoch 5/20\n1/1 [==============================] - 0s 12ms/step - loss: nan - accuracy: 0.0000e+00\nEpoch 6/20\n1/1 [==============================] - 0s 12ms/step - loss: nan - accuracy: 0.0000e+00\nEpoch 7/20\n1/1 [==============================] - 0s 10ms/step - loss: nan - accuracy: 0.0000e+00\nEpoch 8/20\n1/1 [==============================] - 0s 11ms/step - loss: nan - accuracy: 0.0000e+00\nEpoch 9/20\n1/1 [==============================] - 0s 12ms/step - loss: nan - accuracy: 0.0000e+00\nEpoch 10/20\n1/1 [==============================] - 0s 12ms/step - loss: nan - accuracy: 0.0000e+00\nEpoch 11/20\n1/1 [==============================] - 0s 12ms/step - loss: nan - accuracy: 0.0000e+00\nEpoch 12/20\n1/1 [==============================] - 0s 13ms/step - loss: nan - accuracy: 0.0000e+00\nEpoch 13/20\n1/1 [==============================] - 0s 14ms/step - loss: nan - accuracy: 0.0000e+00\nEpoch 14/20\n1/1 [==============================] - 0s 12ms/step - loss: nan - accuracy: 0.0000e+00\nEpoch 15/20\n1/1 [==============================] - 0s 12ms/step - loss: nan - accuracy: 0.0000e+00\nEpoch 16/20\n1/1 [==============================] - 0s 12ms/step - loss: nan - accuracy: 0.0000e+00\nEpoch 17/20\n1/1 [==============================] - 0s 12ms/step - loss: nan - accuracy: 0.0000e+00\nEpoch 18/20\n1/1 [==============================] - 0s 12ms/step - loss: nan - accuracy: 0.0000e+00\nEpoch 19/20\n1/1 [==============================] - 0s 12ms/step - loss: nan - accuracy: 0.0000e+00\nEpoch 20/20\n1/1 [==============================] - 0s 12ms/step - loss: nan - accuracy: 0.0000e+00\n",
          "output_type": "stream"
        }
      ]
    },
    {
      "cell_type": "markdown",
      "source": [
        "If it does not overfit try to fix data prep and model architecture so it does"
      ],
      "metadata": {
        "id": "altB1J4xyyiQ"
      }
    },
    {
      "cell_type": "code",
      "source": [
        "seq_len = 20\n",
        "config[\"seq_len\"] = seq_len\n",
        "def generate_one_hot_ds(seq_len,mol_encoder,smiles_set):\n",
        "    X_train, y_train = [],[]\n",
        "    for mol in tqdm(smiles_set):\n",
        "        for i in range(len(mol) - seq_len):\n",
        "            X, y = build_X_and_y(\n",
        "                mol, i_char=i, seq_length=seq_len, mol_encoder=mol_encoder, one_hot=True\n",
        "            )\n",
        "            X_train.append(X)\n",
        "            y_train.append(y)\n",
        "    X_train = np.array(X_train)\n",
        "    y_train = np.array(y_train)\n",
        "    assert X_train.shape[1:] == (seq_len, mol_encoder.voc_len)\n",
        "    assert y_train.shape[1] == (mol_encoder.voc_len)\n",
        "    return X_train,y_train\n"
      ],
      "metadata": {
        "id": "6SUJYSK7yyiQ",
        "execution": {
          "iopub.status.busy": "2023-09-25T18:59:43.674244Z",
          "iopub.execute_input": "2023-09-25T18:59:43.674566Z",
          "iopub.status.idle": "2023-09-25T18:59:43.685009Z",
          "shell.execute_reply.started": "2023-09-25T18:59:43.674538Z",
          "shell.execute_reply": "2023-09-25T18:59:43.683910Z"
        },
        "trusted": true
      },
      "execution_count": null,
      "outputs": []
    },
    {
      "cell_type": "code",
      "source": [
        "def build_one_hot_model(seq_len, voc_len):\n",
        "    model = Sequential(\n",
        "        [\n",
        "            Input(shape=(seq_len, voc_len)),\n",
        "            LSTM(128,return_sequences=True),\n",
        "            Dropout(0.2),\n",
        "            LSTM(128),\n",
        "            Dropout(0.2),\n",
        "            Dense(voc_len, activation=\"softmax\"),\n",
        "        ]\n",
        "    )\n",
        "    optimizer = tf.keras.optimizers.Adam(learning_rate=1e-3) # tf.keras.optimizers.RMSprop(learning_rate=0.01)\n",
        "    model.compile(\n",
        "        loss=\"categorical_crossentropy\", optimizer=optimizer, metrics=[\"accuracy\"]\n",
        "    )\n",
        "    return model"
      ],
      "metadata": {
        "execution": {
          "iopub.status.busy": "2023-09-25T18:59:43.686531Z",
          "iopub.execute_input": "2023-09-25T18:59:43.688184Z",
          "iopub.status.idle": "2023-09-25T18:59:43.699881Z",
          "shell.execute_reply.started": "2023-09-25T18:59:43.688121Z",
          "shell.execute_reply": "2023-09-25T18:59:43.698690Z"
        },
        "trusted": true,
        "id": "Kb_p28uFcrEl"
      },
      "execution_count": null,
      "outputs": []
    },
    {
      "cell_type": "code",
      "source": [
        "X_train, y_train = generate_one_hot_ds(seq_len,mol_encoder,df['smiles'])\n",
        "X_train_tensor = tf.convert_to_tensor(X_train)\n",
        "y_train_tensor = tf.convert_to_tensor(y_train)"
      ],
      "metadata": {
        "execution": {
          "iopub.status.busy": "2023-09-25T18:59:43.701702Z",
          "iopub.execute_input": "2023-09-25T18:59:43.702200Z",
          "iopub.status.idle": "2023-09-25T18:59:45.366717Z",
          "shell.execute_reply.started": "2023-09-25T18:59:43.702167Z",
          "shell.execute_reply": "2023-09-25T18:59:45.365671Z"
        },
        "trusted": true,
        "id": "ww7r3MqbcrEl",
        "outputId": "1b52e211-407b-447b-93b2-9d72bf53814d"
      },
      "execution_count": null,
      "outputs": [
        {
          "name": "stderr",
          "text": "100%|██████████| 1000/1000 [00:01<00:00, 956.22it/s]\n",
          "output_type": "stream"
        }
      ]
    },
    {
      "cell_type": "code",
      "source": [
        "model = build_one_hot_model(seq_len,mol_encoder.voc_len)\n",
        "model.summary()"
      ],
      "metadata": {
        "execution": {
          "iopub.status.busy": "2023-09-25T18:59:45.368133Z",
          "iopub.execute_input": "2023-09-25T18:59:45.368610Z",
          "iopub.status.idle": "2023-09-25T18:59:45.928722Z",
          "shell.execute_reply.started": "2023-09-25T18:59:45.368558Z",
          "shell.execute_reply": "2023-09-25T18:59:45.927908Z"
        },
        "trusted": true,
        "id": "eWunn2MVcrEl",
        "outputId": "02aca913-3448-4d6b-bb48-008099ef7399"
      },
      "execution_count": null,
      "outputs": [
        {
          "name": "stdout",
          "text": "Model: \"sequential_13\"\n_________________________________________________________________\n Layer (type)                Output Shape              Param #   \n=================================================================\n lstm_26 (LSTM)              (None, 20, 128)           82944     \n                                                                 \n dropout_26 (Dropout)        (None, 20, 128)           0         \n                                                                 \n lstm_27 (LSTM)              (None, 128)               131584    \n                                                                 \n dropout_27 (Dropout)        (None, 128)               0         \n                                                                 \n dense_13 (Dense)            (None, 33)                4257      \n                                                                 \n=================================================================\nTotal params: 218,785\nTrainable params: 218,785\nNon-trainable params: 0\n_________________________________________________________________\n",
          "output_type": "stream"
        }
      ]
    },
    {
      "cell_type": "code",
      "source": [
        "def save_history(model, history,hist_file_name):\n",
        "    history_df = pd.DataFrame(history.history)\n",
        "    hist_file_name = f\"{model.name}_history.csv\"\n",
        "    history_df.to_csv(os.path.join(hist_file_name))"
      ],
      "metadata": {
        "execution": {
          "iopub.status.busy": "2023-09-25T18:59:45.929953Z",
          "iopub.execute_input": "2023-09-25T18:59:45.930424Z",
          "iopub.status.idle": "2023-09-25T18:59:45.938569Z",
          "shell.execute_reply.started": "2023-09-25T18:59:45.930379Z",
          "shell.execute_reply": "2023-09-25T18:59:45.937467Z"
        },
        "trusted": true,
        "id": "XwQwtOPEcrEl"
      },
      "execution_count": null,
      "outputs": []
    },
    {
      "cell_type": "markdown",
      "source": [
        "Create a function **make_prediction(seed_start)** which takes a starting string sequence and uses it to generate a molecule\n"
      ],
      "metadata": {
        "id": "BMCFxz-wyyiR"
      }
    },
    {
      "cell_type": "code",
      "source": [
        "def make_prediction(seed_start: str,model,mol_encoder,seq_len):\n",
        "    seed = seed_start\n",
        "    for i in range(50):\n",
        "        X = np.zeros((1, seq_len, mol_encoder.voc_len))\n",
        "        for j, char in enumerate(seed[-seq_len:]):\n",
        "            X[0, j, mol_encoder.get_int(char)] = 1\n",
        "        y = model.predict(X,verbose=0)\n",
        "        next_char = mol_encoder.get_char(np.argmax(y))\n",
        "        seed += next_char\n",
        "        if next_char == \"\\n\":\n",
        "            break\n",
        "    return seed\n",
        "\n",
        "def make_prediction_alternate(seed_start: str,model=None,mol_encoder=None,seq_len=0):\n",
        "    seed = \"\"\n",
        "    seed_start\n",
        "    for i in range(50):\n",
        "        X = np.zeros((1, seq_len, mol_encoder.voc_len))\n",
        "        for j, char in enumerate(seed_start):\n",
        "            X[0, j, mol_encoder.get_int(char)] = 1\n",
        "        y = model.predict(X,verbose=0)\n",
        "        next_char = mol_encoder.get_char(np.argmax(y))\n",
        "        seed_start = seed_start[1:] + next_char\n",
        "        seed += next_char\n",
        "        if next_char == \"\\n\":\n",
        "            break\n",
        "    return seed"
      ],
      "metadata": {
        "id": "ulAAk9plyyiS",
        "execution": {
          "iopub.status.busy": "2023-09-25T18:59:45.939660Z",
          "iopub.execute_input": "2023-09-25T18:59:45.940712Z",
          "iopub.status.idle": "2023-09-25T18:59:45.954052Z",
          "shell.execute_reply.started": "2023-09-25T18:59:45.940676Z",
          "shell.execute_reply": "2023-09-25T18:59:45.952846Z"
        },
        "trusted": true
      },
      "execution_count": null,
      "outputs": []
    },
    {
      "cell_type": "code",
      "source": [
        "def plot_history(history=None, file_name=None):\n",
        "    fig, (ax1, ax2) = plt.subplots(1, 2, figsize=(12, 4))\n",
        "\n",
        "    if file_name is None:\n",
        "        history_df = pd.DataFrame(history.history)\n",
        "    else:\n",
        "        history_df = pd.read_csv(file_name)\n",
        "\n",
        "    #\n",
        "    history_df[[\"val_accuracy\", \"accuracy\"]].plot(ax=ax1)\n",
        "    ax1.set_title('Précision')\n",
        "    ax1.set_xlabel('Époque')\n",
        "    ax1.set_ylabel('Précision')\n",
        "    ax1.legend([\"Validation\", \"Entraînement\"])\n",
        "\n",
        "\n",
        "    history_df[[\"loss\", \"val_loss\"]].plot(ax=ax2)\n",
        "    ax2.set_title('Perte')\n",
        "    ax2.set_xlabel('Époque')\n",
        "    ax2.set_ylabel('Perte')\n",
        "    ax2.legend([\"Entraînement\", \"Validation\"])\n",
        "\n",
        "    plt.suptitle(\"Historique d'entraînement\")\n",
        "    plt.show()"
      ],
      "metadata": {
        "execution": {
          "iopub.status.busy": "2023-09-25T18:59:45.955796Z",
          "iopub.execute_input": "2023-09-25T18:59:45.956609Z",
          "iopub.status.idle": "2023-09-25T18:59:45.967200Z",
          "shell.execute_reply.started": "2023-09-25T18:59:45.956574Z",
          "shell.execute_reply": "2023-09-25T18:59:45.966179Z"
        },
        "trusted": true,
        "id": "w1CIJS6RcrEm"
      },
      "execution_count": null,
      "outputs": []
    },
    {
      "cell_type": "code",
      "source": [
        "class MyCustomCallback(tf.keras.callbacks.Callback):\n",
        "    def __init__(self, patience:int=0, model_file:str=\"model.h5\"):\n",
        "        self.patience = patience\n",
        "        self.counter = 0\n",
        "        self.min_val_loss = float(\"inf\")\n",
        "        self.model_file_path = model_file\n",
        "        # self.model.save(os.path.join(self.model_file_path))\n",
        "\n",
        "    def on_epoch_end(self, epoch, logs=None):\n",
        "        val_loss = logs.get(\"val_loss\")\n",
        "\n",
        "        if val_loss < self.min_val_loss:\n",
        "            self.min_val_loss = val_loss\n",
        "            print(f\"\\nNew Mininimum for validation loss: {self.min_val_loss}\")\n",
        "            print(f\"Saving {self.model_file_path}, {epoch = }\")\n",
        "            self.model.save(os.path.join(self.model_file_path))"
      ],
      "metadata": {
        "id": "hhOqrs9NyyiV",
        "execution": {
          "iopub.status.busy": "2023-09-25T18:59:45.968988Z",
          "iopub.execute_input": "2023-09-25T18:59:45.969367Z",
          "iopub.status.idle": "2023-09-25T18:59:45.978994Z",
          "shell.execute_reply.started": "2023-09-25T18:59:45.969336Z",
          "shell.execute_reply": "2023-09-25T18:59:45.978257Z"
        },
        "trusted": true
      },
      "execution_count": null,
      "outputs": []
    },
    {
      "cell_type": "code",
      "source": [
        "config[\"callback_param\"] = dict(patience=2,model_file=\"one_hot_model_1.h5\")\n",
        "callbacks = [MyCustomCallback(**config[\"callback_param\"])]\n",
        "model = build_one_hot_model(seq_len,mol_encoder.voc_len)\n",
        "history = model.fit(X_train_tensor, y_train_tensor, epochs=20,validation_split=0.2,callbacks=callbacks)\n",
        "save_history(model,history,\"history_1.csv\")\n",
        "plot_history(history)"
      ],
      "metadata": {
        "execution": {
          "iopub.status.busy": "2023-09-25T19:07:07.441933Z",
          "iopub.execute_input": "2023-09-25T19:07:07.442322Z",
          "iopub.status.idle": "2023-09-25T19:09:03.062435Z",
          "shell.execute_reply.started": "2023-09-25T19:07:07.442292Z",
          "shell.execute_reply": "2023-09-25T19:09:03.061383Z"
        },
        "trusted": true,
        "id": "ALCP2YwKcrEm",
        "outputId": "33a5c02b-438c-4de7-a363-15f6e7c1d3a9"
      },
      "execution_count": null,
      "outputs": [
        {
          "name": "stdout",
          "text": "Epoch 1/20\n630/632 [============================>.] - ETA: 0s - loss: 2.2157 - accuracy: 0.3597\nNew Mininimum for validation loss: 1.6510652303695679\nSaving one_hot_model_1.h5, epoch = 0\n632/632 [==============================] - 11s 11ms/step - loss: 2.2146 - accuracy: 0.3600 - val_loss: 1.6511 - val_accuracy: 0.4805\nEpoch 2/20\n632/632 [==============================] - ETA: 0s - loss: 1.5083 - accuracy: 0.5352\nNew Mininimum for validation loss: 1.3472808599472046\nSaving one_hot_model_1.h5, epoch = 1\n632/632 [==============================] - 5s 8ms/step - loss: 1.5083 - accuracy: 0.5352 - val_loss: 1.3473 - val_accuracy: 0.5742\nEpoch 3/20\n631/632 [============================>.] - ETA: 0s - loss: 1.3194 - accuracy: 0.5792\nNew Mininimum for validation loss: 1.2457236051559448\nSaving one_hot_model_1.h5, epoch = 2\n632/632 [==============================] - 6s 9ms/step - loss: 1.3193 - accuracy: 0.5792 - val_loss: 1.2457 - val_accuracy: 0.5985\nEpoch 4/20\n628/632 [============================>.] - ETA: 0s - loss: 1.2160 - accuracy: 0.6137\nNew Mininimum for validation loss: 1.15193510055542\nSaving one_hot_model_1.h5, epoch = 3\n632/632 [==============================] - 5s 8ms/step - loss: 1.2162 - accuracy: 0.6136 - val_loss: 1.1519 - val_accuracy: 0.6271\nEpoch 5/20\n627/632 [============================>.] - ETA: 0s - loss: 1.1513 - accuracy: 0.6314\nNew Mininimum for validation loss: 1.122816562652588\nSaving one_hot_model_1.h5, epoch = 4\n632/632 [==============================] - 5s 8ms/step - loss: 1.1508 - accuracy: 0.6315 - val_loss: 1.1228 - val_accuracy: 0.6385\nEpoch 6/20\n628/632 [============================>.] - ETA: 0s - loss: 1.0893 - accuracy: 0.6471\nNew Mininimum for validation loss: 1.074265480041504\nSaving one_hot_model_1.h5, epoch = 5\n632/632 [==============================] - 6s 10ms/step - loss: 1.0899 - accuracy: 0.6470 - val_loss: 1.0743 - val_accuracy: 0.6496\nEpoch 7/20\n631/632 [============================>.] - ETA: 0s - loss: 1.0485 - accuracy: 0.6601\nNew Mininimum for validation loss: 1.0358192920684814\nSaving one_hot_model_1.h5, epoch = 6\n632/632 [==============================] - 5s 8ms/step - loss: 1.0486 - accuracy: 0.6601 - val_loss: 1.0358 - val_accuracy: 0.6647\nEpoch 8/20\n627/632 [============================>.] - ETA: 0s - loss: 1.0135 - accuracy: 0.6673\nNew Mininimum for validation loss: 1.0265241861343384\nSaving one_hot_model_1.h5, epoch = 7\n632/632 [==============================] - 5s 8ms/step - loss: 1.0126 - accuracy: 0.6676 - val_loss: 1.0265 - val_accuracy: 0.6716\nEpoch 9/20\n627/632 [============================>.] - ETA: 0s - loss: 0.9708 - accuracy: 0.6833\nNew Mininimum for validation loss: 1.0059926509857178\nSaving one_hot_model_1.h5, epoch = 8\n632/632 [==============================] - 5s 8ms/step - loss: 0.9718 - accuracy: 0.6830 - val_loss: 1.0060 - val_accuracy: 0.6718\nEpoch 10/20\n630/632 [============================>.] - ETA: 0s - loss: 0.9442 - accuracy: 0.6886\nNew Mininimum for validation loss: 0.9996873140335083\nSaving one_hot_model_1.h5, epoch = 9\n632/632 [==============================] - 5s 8ms/step - loss: 0.9440 - accuracy: 0.6886 - val_loss: 0.9997 - val_accuracy: 0.6673\nEpoch 11/20\n627/632 [============================>.] - ETA: 0s - loss: 0.9176 - accuracy: 0.6969\nNew Mininimum for validation loss: 0.9853837490081787\nSaving one_hot_model_1.h5, epoch = 10\n632/632 [==============================] - 5s 8ms/step - loss: 0.9168 - accuracy: 0.6972 - val_loss: 0.9854 - val_accuracy: 0.6758\nEpoch 12/20\n632/632 [==============================] - ETA: 0s - loss: 0.8945 - accuracy: 0.6973\nNew Mininimum for validation loss: 0.9736194610595703\nSaving one_hot_model_1.h5, epoch = 11\n632/632 [==============================] - 6s 9ms/step - loss: 0.8945 - accuracy: 0.6973 - val_loss: 0.9736 - val_accuracy: 0.6784\nEpoch 13/20\n630/632 [============================>.] - ETA: 0s - loss: 0.8664 - accuracy: 0.7104\nNew Mininimum for validation loss: 0.9674103260040283\nSaving one_hot_model_1.h5, epoch = 12\n632/632 [==============================] - 5s 8ms/step - loss: 0.8665 - accuracy: 0.7103 - val_loss: 0.9674 - val_accuracy: 0.6821\nEpoch 14/20\n632/632 [==============================] - 5s 8ms/step - loss: 0.8376 - accuracy: 0.7168 - val_loss: 0.9700 - val_accuracy: 0.6778\nEpoch 15/20\n627/632 [============================>.] - ETA: 0s - loss: 0.8158 - accuracy: 0.7236\nNew Mininimum for validation loss: 0.9610052704811096\nSaving one_hot_model_1.h5, epoch = 14\n632/632 [==============================] - 5s 8ms/step - loss: 0.8160 - accuracy: 0.7233 - val_loss: 0.9610 - val_accuracy: 0.6809\nEpoch 16/20\n632/632 [==============================] - 5s 8ms/step - loss: 0.7890 - accuracy: 0.7333 - val_loss: 0.9718 - val_accuracy: 0.6817\nEpoch 17/20\n632/632 [==============================] - 5s 8ms/step - loss: 0.7619 - accuracy: 0.7379 - val_loss: 0.9762 - val_accuracy: 0.6819\nEpoch 18/20\n632/632 [==============================] - 6s 9ms/step - loss: 0.7411 - accuracy: 0.7448 - val_loss: 0.9847 - val_accuracy: 0.6815\nEpoch 19/20\n632/632 [==============================] - 6s 9ms/step - loss: 0.7217 - accuracy: 0.7515 - val_loss: 0.9849 - val_accuracy: 0.6764\nEpoch 20/20\n632/632 [==============================] - 5s 8ms/step - loss: 0.6945 - accuracy: 0.7613 - val_loss: 0.9789 - val_accuracy: 0.6865\n",
          "output_type": "stream"
        },
        {
          "output_type": "display_data",
          "data": {
            "text/plain": "<Figure size 1200x400 with 2 Axes>",
            "image/png": "[encoded data removed]"
          },
          "metadata": {}
        }
      ]
    },
    {
      "cell_type": "markdown",
      "source": [
        "generate a molecule of your overfitted model"
      ],
      "metadata": {
        "id": "cHb0mnp5yyiS"
      }
    },
    {
      "cell_type": "code",
      "source": [
        "seed_start = random.choice(df['smiles'])[:seq_len]\n",
        "make_prediction(seed_start,model,mol_encoder,seq_len)"
      ],
      "metadata": {
        "execution": {
          "iopub.status.busy": "2023-09-25T19:09:03.064230Z",
          "iopub.execute_input": "2023-09-25T19:09:03.064602Z",
          "iopub.status.idle": "2023-09-25T19:09:06.300107Z",
          "shell.execute_reply.started": "2023-09-25T19:09:03.064566Z",
          "shell.execute_reply": "2023-09-25T19:09:06.298920Z"
        },
        "trusted": true,
        "id": "abEF8StVcrEm",
        "outputId": "0e7bdcf9-fe85-4f6f-a953-34d61a4053f6"
      },
      "execution_count": null,
      "outputs": [
        {
          "execution_count": 237,
          "output_type": "execute_result",
          "data": {
            "text/plain": "'C[C@@H]1CCC[C@](O)(c1ccc(Cl)cc1)C(=O)N1CCOCC1\\n'"
          },
          "metadata": {}
        }
      ]
    },
    {
      "cell_type": "code",
      "source": [
        "full_df = pd.read_csv(filepath_or_buffer=\"250k_smiles.csv\",nrows=10000)"
      ],
      "metadata": {
        "execution": {
          "iopub.status.busy": "2023-09-25T19:09:06.301383Z",
          "iopub.execute_input": "2023-09-25T19:09:06.301994Z",
          "iopub.status.idle": "2023-09-25T19:09:06.335586Z",
          "shell.execute_reply.started": "2023-09-25T19:09:06.301962Z",
          "shell.execute_reply": "2023-09-25T19:09:06.334692Z"
        },
        "trusted": true,
        "id": "XSkjCKp-crEn"
      },
      "execution_count": null,
      "outputs": []
    },
    {
      "cell_type": "code",
      "source": [
        "mol_encoder_2 = MolEncoder(string_set=full_df['smiles'])"
      ],
      "metadata": {
        "execution": {
          "iopub.status.busy": "2023-09-25T19:09:06.338482Z",
          "iopub.execute_input": "2023-09-25T19:09:06.338871Z",
          "iopub.status.idle": "2023-09-25T19:09:06.427827Z",
          "shell.execute_reply.started": "2023-09-25T19:09:06.338820Z",
          "shell.execute_reply": "2023-09-25T19:09:06.426897Z"
        },
        "trusted": true,
        "id": "JtCd_mM4crEn",
        "outputId": "e019d08f-967c-4d3e-83ad-74538b9d6948"
      },
      "execution_count": null,
      "outputs": [
        {
          "name": "stderr",
          "text": "100%|██████████| 10000/10000 [00:00<00:00, 124825.28it/s]\n",
          "output_type": "stream"
        }
      ]
    },
    {
      "cell_type": "code",
      "source": [
        "X_train, y_train = generate_one_hot_ds(seq_len,mol_encoder_2,full_df['smiles'])\n",
        "X_train_tensor = tf.convert_to_tensor(X_train)\n",
        "y_train_tensor = tf.convert_to_tensor(y_train)"
      ],
      "metadata": {
        "execution": {
          "iopub.status.busy": "2023-09-25T19:09:06.430081Z",
          "iopub.execute_input": "2023-09-25T19:09:06.430753Z",
          "iopub.status.idle": "2023-09-25T19:09:23.664837Z",
          "shell.execute_reply.started": "2023-09-25T19:09:06.430719Z",
          "shell.execute_reply": "2023-09-25T19:09:23.662130Z"
        },
        "trusted": true,
        "id": "shaGDJdycrEn",
        "outputId": "2cbf92c9-45b7-4147-d431-d4b48897c41d"
      },
      "execution_count": null,
      "outputs": [
        {
          "name": "stderr",
          "text": "100%|██████████| 10000/10000 [00:10<00:00, 953.03it/s]\n",
          "output_type": "stream"
        }
      ]
    },
    {
      "cell_type": "markdown",
      "source": [
        "build the appropriate model."
      ],
      "metadata": {
        "id": "ZEEgSrQmcrEn"
      }
    },
    {
      "cell_type": "code",
      "source": [
        "config[\"callback_param\"] = dict(patience=2,model_file=\"one_hot_model_2.h5\")\n",
        "\n",
        "callbacks = [MyCustomCallback(**config[\"callback_param\"])]\n",
        "config[\"batch_size\"] = 256\n",
        "model = build_one_hot_model(seq_len,mol_encoder_2.voc_len)\n",
        "history = model.fit(X_train_tensor, y_train_tensor, epochs=20,validation_split=0.2,callbacks=callbacks,batch_size=config[\"batch_size\"])\n",
        "save_history(model,history,\"history_2.csv\")\n",
        "plot_history(history)"
      ],
      "metadata": {
        "id": "-iyk8BvZyyiW",
        "execution": {
          "iopub.status.busy": "2023-09-25T19:09:23.674426Z",
          "iopub.execute_input": "2023-09-25T19:09:23.674729Z",
          "iopub.status.idle": "2023-09-25T19:12:02.969896Z",
          "shell.execute_reply.started": "2023-09-25T19:09:23.674702Z",
          "shell.execute_reply": "2023-09-25T19:12:02.968933Z"
        },
        "trusted": true,
        "outputId": "336f1564-544e-41b1-f410-ca2ade6a837d"
      },
      "execution_count": null,
      "outputs": [
        {
          "name": "stdout",
          "text": "Epoch 1/20\n791/792 [============================>.] - ETA: 0s - loss: 1.7339 - accuracy: 0.4774\nNew Mininimum for validation loss: 1.185935378074646\nSaving one_hot_model_2.h5, epoch = 0\n792/792 [==============================] - 14s 11ms/step - loss: 1.7335 - accuracy: 0.4775 - val_loss: 1.1859 - val_accuracy: 0.6231\nEpoch 2/20\n791/792 [============================>.] - ETA: 0s - loss: 1.1422 - accuracy: 0.6366\nNew Mininimum for validation loss: 1.0041558742523193\nSaving one_hot_model_2.h5, epoch = 1\n792/792 [==============================] - 7s 9ms/step - loss: 1.1421 - accuracy: 0.6367 - val_loss: 1.0042 - val_accuracy: 0.6729\nEpoch 3/20\n787/792 [============================>.] - ETA: 0s - loss: 1.0204 - accuracy: 0.6701\nNew Mininimum for validation loss: 0.9265826344490051\nSaving one_hot_model_2.h5, epoch = 2\n792/792 [==============================] - 8s 10ms/step - loss: 1.0200 - accuracy: 0.6702 - val_loss: 0.9266 - val_accuracy: 0.6953\nEpoch 4/20\n792/792 [==============================] - ETA: 0s - loss: 0.9522 - accuracy: 0.6881\nNew Mininimum for validation loss: 0.8751093745231628\nSaving one_hot_model_2.h5, epoch = 3\n792/792 [==============================] - 8s 10ms/step - loss: 0.9522 - accuracy: 0.6881 - val_loss: 0.8751 - val_accuracy: 0.7113\nEpoch 5/20\n790/792 [============================>.] - ETA: 0s - loss: 0.9101 - accuracy: 0.6995\nNew Mininimum for validation loss: 0.8433383703231812\nSaving one_hot_model_2.h5, epoch = 4\n792/792 [==============================] - 8s 10ms/step - loss: 0.9100 - accuracy: 0.6995 - val_loss: 0.8433 - val_accuracy: 0.7172\nEpoch 6/20\n787/792 [============================>.] - ETA: 0s - loss: 0.8789 - accuracy: 0.7088\nNew Mininimum for validation loss: 0.8228545188903809\nSaving one_hot_model_2.h5, epoch = 5\n792/792 [==============================] - 7s 9ms/step - loss: 0.8786 - accuracy: 0.7090 - val_loss: 0.8229 - val_accuracy: 0.7240\nEpoch 7/20\n787/792 [============================>.] - ETA: 0s - loss: 0.8532 - accuracy: 0.7157\nNew Mininimum for validation loss: 0.8091000914573669\nSaving one_hot_model_2.h5, epoch = 6\n792/792 [==============================] - 8s 10ms/step - loss: 0.8531 - accuracy: 0.7157 - val_loss: 0.8091 - val_accuracy: 0.7279\nEpoch 8/20\n787/792 [============================>.] - ETA: 0s - loss: 0.8336 - accuracy: 0.7215\nNew Mininimum for validation loss: 0.7941012978553772\nSaving one_hot_model_2.h5, epoch = 7\n792/792 [==============================] - 8s 10ms/step - loss: 0.8333 - accuracy: 0.7215 - val_loss: 0.7941 - val_accuracy: 0.7314\nEpoch 9/20\n786/792 [============================>.] - ETA: 0s - loss: 0.8144 - accuracy: 0.7261\nNew Mininimum for validation loss: 0.7796295285224915\nSaving one_hot_model_2.h5, epoch = 8\n792/792 [==============================] - 7s 9ms/step - loss: 0.8140 - accuracy: 0.7263 - val_loss: 0.7796 - val_accuracy: 0.7362\nEpoch 10/20\n791/792 [============================>.] - ETA: 0s - loss: 0.7992 - accuracy: 0.7287\nNew Mininimum for validation loss: 0.7674713134765625\nSaving one_hot_model_2.h5, epoch = 9\n792/792 [==============================] - 8s 10ms/step - loss: 0.7994 - accuracy: 0.7287 - val_loss: 0.7675 - val_accuracy: 0.7388\nEpoch 11/20\n791/792 [============================>.] - ETA: 0s - loss: 0.7852 - accuracy: 0.7339\nNew Mininimum for validation loss: 0.761877715587616\nSaving one_hot_model_2.h5, epoch = 10\n792/792 [==============================] - 7s 9ms/step - loss: 0.7851 - accuracy: 0.7340 - val_loss: 0.7619 - val_accuracy: 0.7414\nEpoch 12/20\n790/792 [============================>.] - ETA: 0s - loss: 0.7724 - accuracy: 0.7370\nNew Mininimum for validation loss: 0.751380980014801\nSaving one_hot_model_2.h5, epoch = 11\n792/792 [==============================] - 8s 10ms/step - loss: 0.7723 - accuracy: 0.7371 - val_loss: 0.7514 - val_accuracy: 0.7443\nEpoch 13/20\n792/792 [==============================] - ETA: 0s - loss: 0.7603 - accuracy: 0.7407\nNew Mininimum for validation loss: 0.7508107423782349\nSaving one_hot_model_2.h5, epoch = 12\n792/792 [==============================] - 7s 9ms/step - loss: 0.7603 - accuracy: 0.7407 - val_loss: 0.7508 - val_accuracy: 0.7445\nEpoch 14/20\n789/792 [============================>.] - ETA: 0s - loss: 0.7512 - accuracy: 0.7434\nNew Mininimum for validation loss: 0.7420233488082886\nSaving one_hot_model_2.h5, epoch = 13\n792/792 [==============================] - 8s 10ms/step - loss: 0.7511 - accuracy: 0.7434 - val_loss: 0.7420 - val_accuracy: 0.7474\nEpoch 15/20\n792/792 [==============================] - 8s 10ms/step - loss: 0.7404 - accuracy: 0.7461 - val_loss: 0.7429 - val_accuracy: 0.7482\nEpoch 16/20\n787/792 [============================>.] - ETA: 0s - loss: 0.7331 - accuracy: 0.7487\nNew Mininimum for validation loss: 0.7409128546714783\nSaving one_hot_model_2.h5, epoch = 15\n792/792 [==============================] - 8s 10ms/step - loss: 0.7328 - accuracy: 0.7488 - val_loss: 0.7409 - val_accuracy: 0.7467\nEpoch 17/20\n790/792 [============================>.] - ETA: 0s - loss: 0.7252 - accuracy: 0.7509\nNew Mininimum for validation loss: 0.7297219038009644\nSaving one_hot_model_2.h5, epoch = 16\n792/792 [==============================] - 8s 10ms/step - loss: 0.7252 - accuracy: 0.7510 - val_loss: 0.7297 - val_accuracy: 0.7511\nEpoch 18/20\n792/792 [==============================] - 7s 9ms/step - loss: 0.7162 - accuracy: 0.7534 - val_loss: 0.7394 - val_accuracy: 0.7495\nEpoch 19/20\n792/792 [==============================] - 8s 10ms/step - loss: 0.7082 - accuracy: 0.7562 - val_loss: 0.7353 - val_accuracy: 0.7516\nEpoch 20/20\n788/792 [============================>.] - ETA: 0s - loss: 0.7018 - accuracy: 0.7580\nNew Mininimum for validation loss: 0.7293699979782104\nSaving one_hot_model_2.h5, epoch = 19\n792/792 [==============================] - 8s 10ms/step - loss: 0.7015 - accuracy: 0.7581 - val_loss: 0.7294 - val_accuracy: 0.7517\n",
          "output_type": "stream"
        },
        {
          "output_type": "display_data",
          "data": {
            "text/plain": "<Figure size 1200x400 with 2 Axes>",
            "image/png": "[encoded data removed]"
          },
          "metadata": {}
        }
      ]
    },
    {
      "cell_type": "markdown",
      "source": [
        "Generate between 100 and 1000 molecules."
      ],
      "metadata": {
        "id": "QGzxqv3hyyiX"
      }
    },
    {
      "cell_type": "code",
      "source": [
        "def generate_molecules(n_molecules = 50,model = None,mol_encoder =None , seq_len = None,smiles_set = None):\n",
        "\n",
        "    molecules_list = []\n",
        "    for i in tqdm(range(n_molecules)):\n",
        "        seed_start = random.choice(smiles_set)[:seq_len]\n",
        "        molecules_list.append(make_prediction(seed_start,model,mol_encoder,seq_len))\n",
        "\n",
        "    generated_df = pd.DataFrame({\"gen_mol\":molecules_list})\n",
        "    file_name = f'generated_molecules_{model.name}.csv'\n",
        "    generated_df.to_csv(file_name)\n",
        "    return generated_df"
      ],
      "metadata": {
        "id": "9E9fhvHQyyiY",
        "execution": {
          "iopub.status.busy": "2023-09-25T19:12:02.971836Z",
          "iopub.execute_input": "2023-09-25T19:12:02.972604Z",
          "iopub.status.idle": "2023-09-25T19:12:02.980099Z",
          "shell.execute_reply.started": "2023-09-25T19:12:02.972565Z",
          "shell.execute_reply": "2023-09-25T19:12:02.979148Z"
        },
        "trusted": true
      },
      "execution_count": null,
      "outputs": []
    },
    {
      "cell_type": "code",
      "source": [
        "n_molecules= 200\n",
        "seq_len = 20\n",
        "smiles_set =full_df['smiles']\n",
        "model_1 = load_model('one_hot_model_1.h5')\n",
        "gen_df_1 = generate_molecules(n_molecules=n_molecules,model = model_1, mol_encoder= mol_encoder,seq_len = seq_len,smiles_set =smiles_set)\n",
        "model_2 = load_model('one_hot_model_2.h5')\n",
        "gen_df_2 = generate_molecules(n_molecules=n_molecules,model = model_2, mol_encoder= mol_encoder_2,seq_len = seq_len,smiles_set =smiles_set)"
      ],
      "metadata": {
        "execution": {
          "iopub.status.busy": "2023-09-25T19:12:02.983453Z",
          "iopub.execute_input": "2023-09-25T19:12:02.983742Z",
          "iopub.status.idle": "2023-09-25T19:18:39.552348Z",
          "shell.execute_reply.started": "2023-09-25T19:12:02.983716Z",
          "shell.execute_reply": "2023-09-25T19:18:39.551132Z"
        },
        "trusted": true,
        "id": "_Jdv5i8McrEo",
        "outputId": "75767bdc-09dc-4b14-89c3-29441c44c9c8"
      },
      "execution_count": null,
      "outputs": [
        {
          "name": "stderr",
          "text": "100%|██████████| 200/200 [02:53<00:00,  1.15it/s]\n100%|██████████| 200/200 [03:41<00:00,  1.11s/it]\n",
          "output_type": "stream"
        }
      ]
    },
    {
      "cell_type": "code",
      "source": [
        "from rdkit import rdBase\n",
        "def get_valid_mols_list(gen_smiles):\n",
        "    rdBase.DisableLog('rdApp.error')\n",
        "    gen_mol_list = []\n",
        "    for gen_smiles in gen_smiles:\n",
        "        current_mol = MolFromSmiles(gen_smiles)\n",
        "        if current_mol is not None:\n",
        "            gen_mol_list.append(current_mol)\n",
        "\n",
        "    rdBase.EnableLog('rdApp.error')\n",
        "    return gen_mol_list"
      ],
      "metadata": {
        "execution": {
          "iopub.status.busy": "2023-09-25T19:18:39.584041Z",
          "iopub.execute_input": "2023-09-25T19:18:39.584681Z",
          "iopub.status.idle": "2023-09-25T19:18:39.600003Z",
          "shell.execute_reply.started": "2023-09-25T19:18:39.584643Z",
          "shell.execute_reply": "2023-09-25T19:18:39.598845Z"
        },
        "trusted": true,
        "id": "J4ubiT9TcrEo"
      },
      "execution_count": null,
      "outputs": []
    },
    {
      "cell_type": "markdown",
      "source": [
        "Gardons les molécules qui sont valides selon la fonction `get_valid_mols_list`"
      ],
      "metadata": {
        "id": "_gYn0xB4crEo"
      }
    },
    {
      "cell_type": "code",
      "source": [
        "gen_mol_sets = []\n",
        "files_list = ['one_hot_model_1.h5','one_hot_model_2.h5']\n",
        "for df,file_name in zip([gen_df_1,gen_df_2],files_list):\n",
        "    gen_mol_list = get_valid_mols_list(df[\"gen_mol\"])\n",
        "    gen_mol_sets.append(gen_mol_list)\n",
        "    n_gen_mol = len(gen_mol_list)\n",
        "    n_mol = len(df)\n",
        "    print(f'{n_gen_mol} molécules sur {n_mol} sont valides pour le modèle {file_name}')\n"
      ],
      "metadata": {
        "execution": {
          "iopub.status.busy": "2023-09-25T19:18:39.601536Z",
          "iopub.execute_input": "2023-09-25T19:18:39.602011Z",
          "iopub.status.idle": "2023-09-25T19:18:39.662156Z",
          "shell.execute_reply.started": "2023-09-25T19:18:39.601972Z",
          "shell.execute_reply": "2023-09-25T19:18:39.660831Z"
        },
        "trusted": true,
        "id": "OmIknl7OcrEo",
        "outputId": "b5a74f85-6981-4c96-a8b2-0500c5df3031"
      },
      "execution_count": null,
      "outputs": [
        {
          "name": "stdout",
          "text": "85 molécules sur 200 sont valides pour le modèle one_hot_model_1.h5\n112 molécules sur 200 sont valides pour le modèle one_hot_model_2.h5\n",
          "output_type": "stream"
        }
      ]
    },
    {
      "cell_type": "markdown",
      "source": [
        "Affichons les molécules générées par leur modèle respectif."
      ],
      "metadata": {
        "id": "LJDxJZd3crEo"
      }
    },
    {
      "cell_type": "code",
      "source": [
        "fig = plt.figure()\n",
        "fig.set_facecolor('white')\n",
        "for i,mol_set in enumerate(gen_mol_sets):\n",
        "    ax = fig.add_subplot(1,len(gen_mol_sets),i+1)\n",
        "    mol = random.choice(mol_set)\n",
        "    img = MolToImage(mol)\n",
        "    ax.set_title(f'Molécule générée \\n par {files_list[i]}')\n",
        "    ax.set_xticks([])\n",
        "    ax.set_yticks([])\n",
        "    ax.imshow(img)\n",
        "plt.tight_layout()\n",
        "plt.show()"
      ],
      "metadata": {
        "execution": {
          "iopub.status.busy": "2023-09-25T19:18:39.663774Z",
          "iopub.execute_input": "2023-09-25T19:18:39.665034Z",
          "iopub.status.idle": "2023-09-25T19:18:40.011338Z",
          "shell.execute_reply.started": "2023-09-25T19:18:39.664992Z",
          "shell.execute_reply": "2023-09-25T19:18:40.009811Z"
        },
        "trusted": true,
        "id": "o1hPNf8HcrEp",
        "outputId": "bf1deef9-d1e5-48cd-c061-b62e20090b2b"
      },
      "execution_count": null,
      "outputs": [
        {
          "output_type": "display_data",
          "data": {
            "text/plain": "<Figure size 640x480 with 2 Axes>",
            "image/png": "[encoded data removed]"
          },
          "metadata": {}
        }
      ]
    },
    {
      "cell_type": "markdown",
      "source": [
        "create a list where molecules have between 10 and 50 atoms"
      ],
      "metadata": {
        "id": "grF8rl7FcrEp"
      }
    },
    {
      "cell_type": "code",
      "source": [
        "between_10_and_50 = lambda mol: ((mol.GetNumAtoms() >= 10) and (mol.GetNumAtoms() <= 50))"
      ],
      "metadata": {
        "execution": {
          "iopub.status.busy": "2023-09-25T19:18:40.016603Z",
          "iopub.execute_input": "2023-09-25T19:18:40.018402Z",
          "iopub.status.idle": "2023-09-25T19:18:40.024383Z",
          "shell.execute_reply.started": "2023-09-25T19:18:40.018366Z",
          "shell.execute_reply": "2023-09-25T19:18:40.023266Z"
        },
        "trusted": true,
        "id": "McZR-VU0crEp"
      },
      "execution_count": null,
      "outputs": []
    },
    {
      "cell_type": "code",
      "source": [
        "qed_dfs = []\n",
        "for mol_set,file_name in zip(gen_mol_sets,files_list):\n",
        "    gen_mol_list_10_50 = list(filter(between_10_and_50, mol_set ))\n",
        "    qed = lambda x : QED.qed(x)\n",
        "    qed_list = list(map(qed,gen_mol_list_10_50))\n",
        "    qed_df = pd.DataFrame({\n",
        "        f\"gen_mol_{file_name}\":list(map(MolToSmiles,gen_mol_list_10_50)),\n",
        "        \"qed\": qed_list\n",
        "    })\n",
        "    qed_dfs.append(qed_df)\n"
      ],
      "metadata": {
        "execution": {
          "iopub.status.busy": "2023-09-25T19:18:40.025836Z",
          "iopub.execute_input": "2023-09-25T19:18:40.026202Z",
          "iopub.status.idle": "2023-09-25T19:18:40.344671Z",
          "shell.execute_reply.started": "2023-09-25T19:18:40.026175Z",
          "shell.execute_reply": "2023-09-25T19:18:40.343524Z"
        },
        "trusted": true,
        "id": "aUT2La8zcrEp"
      },
      "execution_count": null,
      "outputs": []
    },
    {
      "cell_type": "code",
      "source": [
        "\n",
        "qed_dfs[0].head()"
      ],
      "metadata": {
        "execution": {
          "iopub.status.busy": "2023-09-25T19:18:40.346178Z",
          "iopub.execute_input": "2023-09-25T19:18:40.346536Z",
          "iopub.status.idle": "2023-09-25T19:18:40.358279Z",
          "shell.execute_reply.started": "2023-09-25T19:18:40.346503Z",
          "shell.execute_reply": "2023-09-25T19:18:40.356898Z"
        },
        "trusted": true,
        "id": "YCawRF9JcrEp",
        "outputId": "caf150c9-6b6c-4df6-9f7a-95b6574a1bea"
      },
      "execution_count": null,
      "outputs": [
        {
          "execution_count": 251,
          "output_type": "execute_result",
          "data": {
            "text/plain": "                          gen_mol_one_hot_model_1.h5       qed\n0             CC(C)NS(=O)(=O)c1ccc(C(=O)N2CCOCC2)cc1  0.893956\n1  CC[NH2+]CC(=O)N1C=CN(C(=O)CCCC(=O)Nc2ccc(C(=O)...  0.524705\n2                      FC(F)COc1ncccc1C[NH2+]C1CCCC1  0.842623\n3                             COc1ccc(S(N)(=O)=O)cc1  0.725528\n4                        O=C(NCCc1cccc(O)c1)NC1CCCC1  0.764463",
            "text/html": "<div>\n<style scoped>\n    .dataframe tbody tr th:only-of-type {\n        vertical-align: middle;\n    }\n\n    .dataframe tbody tr th {\n        vertical-align: top;\n    }\n\n    .dataframe thead th {\n        text-align: right;\n    }\n</style>\n<table border=\"1\" class=\"dataframe\">\n  <thead>\n    <tr style=\"text-align: right;\">\n      <th></th>\n      <th>gen_mol_one_hot_model_1.h5</th>\n      <th>qed</th>\n    </tr>\n  </thead>\n  <tbody>\n    <tr>\n      <th>0</th>\n      <td>CC(C)NS(=O)(=O)c1ccc(C(=O)N2CCOCC2)cc1</td>\n      <td>0.893956</td>\n    </tr>\n    <tr>\n      <th>1</th>\n      <td>CC[NH2+]CC(=O)N1C=CN(C(=O)CCCC(=O)Nc2ccc(C(=O)...</td>\n      <td>0.524705</td>\n    </tr>\n    <tr>\n      <th>2</th>\n      <td>FC(F)COc1ncccc1C[NH2+]C1CCCC1</td>\n      <td>0.842623</td>\n    </tr>\n    <tr>\n      <th>3</th>\n      <td>COc1ccc(S(N)(=O)=O)cc1</td>\n      <td>0.725528</td>\n    </tr>\n    <tr>\n      <th>4</th>\n      <td>O=C(NCCc1cccc(O)c1)NC1CCCC1</td>\n      <td>0.764463</td>\n    </tr>\n  </tbody>\n</table>\n</div>"
          },
          "metadata": {}
        }
      ]
    },
    {
      "cell_type": "code",
      "source": [
        "qed_dfs[1].head()"
      ],
      "metadata": {
        "execution": {
          "iopub.status.busy": "2023-09-25T19:18:40.360072Z",
          "iopub.execute_input": "2023-09-25T19:18:40.360813Z",
          "iopub.status.idle": "2023-09-25T19:18:40.376663Z",
          "shell.execute_reply.started": "2023-09-25T19:18:40.360749Z",
          "shell.execute_reply": "2023-09-25T19:18:40.375468Z"
        },
        "trusted": true,
        "id": "6nJFLk4NcrEp",
        "outputId": "82085e90-f9da-4ded-e01a-23838de4dd3d"
      },
      "execution_count": null,
      "outputs": [
        {
          "execution_count": 252,
          "output_type": "execute_result",
          "data": {
            "text/plain": "                          gen_mol_one_hot_model_2.h5       qed\n0                     CCc1cc(CNc2ccccc2Cc2ccccc2)on1  0.729596\n1                   CC1C=CN(/C(N)=[NH+]/C2CCCCC2)CC1  0.503059\n2                 O=C(Cc1ccc(F)cc1F)NC(=O)NCc1ccccc1  0.911698\n3                   C[C@@H]1CCN(c2ccc3c(c2)OCO3)C1=O  0.722396\n4  C[C@@H](C(=O)NCCc1ccccc1)C(=O)Nc1ccc(C(=O)Nc2c...  0.375186",
            "text/html": "<div>\n<style scoped>\n    .dataframe tbody tr th:only-of-type {\n        vertical-align: middle;\n    }\n\n    .dataframe tbody tr th {\n        vertical-align: top;\n    }\n\n    .dataframe thead th {\n        text-align: right;\n    }\n</style>\n<table border=\"1\" class=\"dataframe\">\n  <thead>\n    <tr style=\"text-align: right;\">\n      <th></th>\n      <th>gen_mol_one_hot_model_2.h5</th>\n      <th>qed</th>\n    </tr>\n  </thead>\n  <tbody>\n    <tr>\n      <th>0</th>\n      <td>CCc1cc(CNc2ccccc2Cc2ccccc2)on1</td>\n      <td>0.729596</td>\n    </tr>\n    <tr>\n      <th>1</th>\n      <td>CC1C=CN(/C(N)=[NH+]/C2CCCCC2)CC1</td>\n      <td>0.503059</td>\n    </tr>\n    <tr>\n      <th>2</th>\n      <td>O=C(Cc1ccc(F)cc1F)NC(=O)NCc1ccccc1</td>\n      <td>0.911698</td>\n    </tr>\n    <tr>\n      <th>3</th>\n      <td>C[C@@H]1CCN(c2ccc3c(c2)OCO3)C1=O</td>\n      <td>0.722396</td>\n    </tr>\n    <tr>\n      <th>4</th>\n      <td>C[C@@H](C(=O)NCCc1ccccc1)C(=O)Nc1ccc(C(=O)Nc2c...</td>\n      <td>0.375186</td>\n    </tr>\n  </tbody>\n</table>\n</div>"
          },
          "metadata": {}
        }
      ]
    },
    {
      "cell_type": "code",
      "source": [],
      "metadata": {
        "trusted": true,
        "id": "J8ywtx95crEq"
      },
      "execution_count": null,
      "outputs": []
    }
  ]
}